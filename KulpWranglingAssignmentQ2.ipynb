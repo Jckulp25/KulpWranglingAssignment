{
 "cells": [
  {
   "cell_type": "code",
   "execution_count": 1,
   "id": "a9e41f91-8b61-4f0d-b4db-26202e3f6902",
   "metadata": {
    "tags": []
   },
   "outputs": [
    {
     "name": "stdout",
     "output_type": "stream",
     "text": [
      "Cloning into 'wrangling'...\n",
      "remote: Enumerating objects: 92, done.\u001b[K\n",
      "remote: Counting objects: 100% (52/52), done.\u001b[K\n",
      "remote: Compressing objects: 100% (34/34), done.\u001b[K\n",
      "remote: Total 92 (delta 42), reused 18 (delta 18), pack-reused 40 (from 1)\u001b[K\n",
      "Receiving objects: 100% (92/92), 18.08 MiB | 8.20 MiB/s, done.\n",
      "Resolving deltas: 100% (43/43), done.\n"
     ]
    }
   ],
   "source": [
    "! git clone https://github.com/DS3001/wrangling"
   ]
  },
  {
   "cell_type": "code",
   "execution_count": 3,
   "id": "bb10b814-7ebb-49c5-ab3e-d3bf31d7934e",
   "metadata": {
    "tags": []
   },
   "outputs": [],
   "source": [
    "import pandas as pd\n",
    "import numpy as np\n",
    "import seaborn as sns"
   ]
  },
  {
   "cell_type": "code",
   "execution_count": 3,
   "id": "66d7ccde-bb55-4248-bb56-36f7578bd722",
   "metadata": {
    "tags": []
   },
   "outputs": [
    {
     "name": "stdout",
     "output_type": "stream",
     "text": [
      "NA_codes.jpg  bondType.png  plane.png\t       timespent.jpg\n",
      "assignment    data\t    pretrial_data.csv  wrangling.ipynb\n"
     ]
    }
   ],
   "source": [
    "! ls wrangling"
   ]
  },
  {
   "cell_type": "code",
   "execution_count": null,
   "id": "b884663c-c3ad-43ea-bc69-9aec9af7628b",
   "metadata": {},
   "outputs": [],
   "source": [
    "# Question 2"
   ]
  },
  {
   "cell_type": "code",
   "execution_count": null,
   "id": "e2ed008d-6342-4838-9536-0b18f472ad4e",
   "metadata": {},
   "outputs": [],
   "source": [
    "# Part 1 clean the numeric variable) "
   ]
  },
  {
   "cell_type": "code",
   "execution_count": 12,
   "id": "1079e3c5-f61c-43a3-9a91-a0e9dcbd2d2d",
   "metadata": {
    "tags": []
   },
   "outputs": [
    {
     "name": "stdout",
     "output_type": "stream",
     "text": [
      "(30478, 13) \n",
      "\n"
     ]
    },
    {
     "data": {
      "text/html": [
       "<div>\n",
       "<style scoped>\n",
       "    .dataframe tbody tr th:only-of-type {\n",
       "        vertical-align: middle;\n",
       "    }\n",
       "\n",
       "    .dataframe tbody tr th {\n",
       "        vertical-align: top;\n",
       "    }\n",
       "\n",
       "    .dataframe thead th {\n",
       "        text-align: right;\n",
       "    }\n",
       "</style>\n",
       "<table border=\"1\" class=\"dataframe\">\n",
       "  <thead>\n",
       "    <tr style=\"text-align: right;\">\n",
       "      <th></th>\n",
       "      <th>Host Id</th>\n",
       "      <th>Host Since</th>\n",
       "      <th>Name</th>\n",
       "      <th>Neighbourhood</th>\n",
       "      <th>Property Type</th>\n",
       "      <th>Review Scores Rating (bin)</th>\n",
       "      <th>Room Type</th>\n",
       "      <th>Zipcode</th>\n",
       "      <th>Beds</th>\n",
       "      <th>Number of Records</th>\n",
       "      <th>Number Of Reviews</th>\n",
       "      <th>Price</th>\n",
       "      <th>Review Scores Rating</th>\n",
       "    </tr>\n",
       "  </thead>\n",
       "  <tbody>\n",
       "    <tr>\n",
       "      <th>0</th>\n",
       "      <td>5162530</td>\n",
       "      <td>NaN</td>\n",
       "      <td>1 Bedroom in Prime Williamsburg</td>\n",
       "      <td>Brooklyn</td>\n",
       "      <td>Apartment</td>\n",
       "      <td>NaN</td>\n",
       "      <td>Entire home/apt</td>\n",
       "      <td>11249.0</td>\n",
       "      <td>1.0</td>\n",
       "      <td>1</td>\n",
       "      <td>0</td>\n",
       "      <td>145</td>\n",
       "      <td>NaN</td>\n",
       "    </tr>\n",
       "    <tr>\n",
       "      <th>1</th>\n",
       "      <td>33134899</td>\n",
       "      <td>NaN</td>\n",
       "      <td>Sunny, Private room in Bushwick</td>\n",
       "      <td>Brooklyn</td>\n",
       "      <td>Apartment</td>\n",
       "      <td>NaN</td>\n",
       "      <td>Private room</td>\n",
       "      <td>11206.0</td>\n",
       "      <td>1.0</td>\n",
       "      <td>1</td>\n",
       "      <td>1</td>\n",
       "      <td>37</td>\n",
       "      <td>NaN</td>\n",
       "    </tr>\n",
       "    <tr>\n",
       "      <th>2</th>\n",
       "      <td>39608626</td>\n",
       "      <td>NaN</td>\n",
       "      <td>Sunny Room in Harlem</td>\n",
       "      <td>Manhattan</td>\n",
       "      <td>Apartment</td>\n",
       "      <td>NaN</td>\n",
       "      <td>Private room</td>\n",
       "      <td>10032.0</td>\n",
       "      <td>1.0</td>\n",
       "      <td>1</td>\n",
       "      <td>1</td>\n",
       "      <td>28</td>\n",
       "      <td>NaN</td>\n",
       "    </tr>\n",
       "    <tr>\n",
       "      <th>3</th>\n",
       "      <td>500</td>\n",
       "      <td>6/26/2008</td>\n",
       "      <td>Gorgeous 1 BR with Private Balcony</td>\n",
       "      <td>Manhattan</td>\n",
       "      <td>Apartment</td>\n",
       "      <td>NaN</td>\n",
       "      <td>Entire home/apt</td>\n",
       "      <td>10024.0</td>\n",
       "      <td>3.0</td>\n",
       "      <td>1</td>\n",
       "      <td>0</td>\n",
       "      <td>199</td>\n",
       "      <td>NaN</td>\n",
       "    </tr>\n",
       "    <tr>\n",
       "      <th>4</th>\n",
       "      <td>500</td>\n",
       "      <td>6/26/2008</td>\n",
       "      <td>Trendy Times Square Loft</td>\n",
       "      <td>Manhattan</td>\n",
       "      <td>Apartment</td>\n",
       "      <td>95.0</td>\n",
       "      <td>Private room</td>\n",
       "      <td>10036.0</td>\n",
       "      <td>3.0</td>\n",
       "      <td>1</td>\n",
       "      <td>39</td>\n",
       "      <td>549</td>\n",
       "      <td>96.0</td>\n",
       "    </tr>\n",
       "  </tbody>\n",
       "</table>\n",
       "</div>"
      ],
      "text/plain": [
       "    Host Id Host Since                                Name Neighbourhood   \\\n",
       "0   5162530        NaN     1 Bedroom in Prime Williamsburg       Brooklyn   \n",
       "1  33134899        NaN     Sunny, Private room in Bushwick       Brooklyn   \n",
       "2  39608626        NaN                Sunny Room in Harlem      Manhattan   \n",
       "3       500  6/26/2008  Gorgeous 1 BR with Private Balcony      Manhattan   \n",
       "4       500  6/26/2008            Trendy Times Square Loft      Manhattan   \n",
       "\n",
       "  Property Type  Review Scores Rating (bin)        Room Type  Zipcode  Beds  \\\n",
       "0     Apartment                         NaN  Entire home/apt  11249.0   1.0   \n",
       "1     Apartment                         NaN     Private room  11206.0   1.0   \n",
       "2     Apartment                         NaN     Private room  10032.0   1.0   \n",
       "3     Apartment                         NaN  Entire home/apt  10024.0   3.0   \n",
       "4     Apartment                        95.0     Private room  10036.0   3.0   \n",
       "\n",
       "   Number of Records  Number Of Reviews  Price  Review Scores Rating  \n",
       "0                  1                  0    145                   NaN  \n",
       "1                  1                  1     37                   NaN  \n",
       "2                  1                  1     28                   NaN  \n",
       "3                  1                  0    199                   NaN  \n",
       "4                  1                 39    549                  96.0  "
      ]
     },
     "execution_count": 12,
     "metadata": {},
     "output_type": "execute_result"
    }
   ],
   "source": [
    "#Reading in the Data and removing commas \n",
    "df_air = pd.read_csv('./wrangling/assignment/data/airbnb_hw.csv', thousands=\",\", low_memory=False)\n",
    "print( df_air.shape, '\\n')\n",
    "df_air.head()\n"
   ]
  },
  {
   "cell_type": "code",
   "execution_count": 14,
   "id": "a27334b7-94cc-4251-9211-5a83f79ab471",
   "metadata": {
    "tags": []
   },
   "outputs": [
    {
     "name": "stdout",
     "output_type": "stream",
     "text": [
      "0        145\n",
      "1         37\n",
      "2         28\n",
      "3        199\n",
      "4        549\n",
      "        ... \n",
      "30473    300\n",
      "30474    125\n",
      "30475     80\n",
      "30476     35\n",
      "30477     80\n",
      "Name: Price, Length: 30478, dtype: int64\n"
     ]
    }
   ],
   "source": [
    "#Converting Price to Integers \n",
    "df_air['Price'] = df_air['Price'].apply(lambda x: int(x))\n",
    "print(df_air['Price'])"
   ]
  },
  {
   "cell_type": "code",
   "execution_count": 16,
   "id": "670213a1-8317-46df-84a1-7c0b45115b5b",
   "metadata": {
    "tags": []
   },
   "outputs": [
    {
     "name": "stdout",
     "output_type": "stream",
     "text": [
      "There are 0 null values in the Price column\n"
     ]
    }
   ],
   "source": [
    "#Checking for Null Values\n",
    "df_air['Price'].isnull()\n",
    "num_nulls_price = df_air['Price'].isnull().sum()\n",
    "print(f\"There are {num_nulls_price} null values in the Price column\")"
   ]
  },
  {
   "cell_type": "code",
   "execution_count": null,
   "id": "c250f13b-bdd8-41cf-b736-318a37f6ea20",
   "metadata": {},
   "outputs": [],
   "source": [
    "# Because the Price values were previously strings but they are numbers we might want to maniupulate to find out average, max etc, I converted them to integers and found there were no missing values in these data in terms of price, along with removing commas from values over 1000."
   ]
  },
  {
   "cell_type": "code",
   "execution_count": null,
   "id": "34fa4894-5cda-4405-a147-cc388f3c2d10",
   "metadata": {},
   "outputs": [],
   "source": [
    "# Part 2 clean the catagorical variable)"
   ]
  },
  {
   "cell_type": "code",
   "execution_count": 18,
   "id": "8bab0464-aa08-497a-9a98-a6d36d62d975",
   "metadata": {
    "tags": []
   },
   "outputs": [
    {
     "name": "stdout",
     "output_type": "stream",
     "text": [
      "/sfs/weka/scratch/khs2fu/wrangling/wrangling\n"
     ]
    }
   ],
   "source": [
    "! pwd"
   ]
  },
  {
   "cell_type": "code",
   "execution_count": 19,
   "id": "61a9fe61-bf1e-4070-9930-9773adc0cdd9",
   "metadata": {
    "tags": []
   },
   "outputs": [
    {
     "name": "stdout",
     "output_type": "stream",
     "text": [
      "0       Unprovoked\n",
      "1         Provoked\n",
      "2       Unprovoked\n",
      "3       Unprovoked\n",
      "4       Unprovoked\n",
      "           ...    \n",
      "6457    Unprovoked\n",
      "6458    Unprovoked\n",
      "6459    Unprovoked\n",
      "6460    Unprovoked\n",
      "6461    Unprovoked\n",
      "Name: Type, Length: 6462, dtype: object\n"
     ]
    }
   ],
   "source": [
    "#Read in the data and return the variable type \n",
    "df_sharks = pd.read_csv('/sfs/weka/scratch/khs2fu/wrangling/wrangling/assignment/data/sharks.csv', low_memory=False)\n",
    "print(df_sharks['Type'])"
   ]
  },
  {
   "cell_type": "code",
   "execution_count": 20,
   "id": "05f1d89c-ae28-4958-88c4-d72b1872636d",
   "metadata": {
    "tags": []
   },
   "outputs": [
    {
     "data": {
      "text/plain": [
       "array(['Unprovoked', 'Provoked', 'Questionable', 'Watercraft',\n",
       "       'Unconfirmed', 'Unverified', 'Invalid', 'Under investigation',\n",
       "       'Boating', 'Sea Disaster', nan, 'Boat', 'Boatomg'], dtype=object)"
      ]
     },
     "execution_count": 20,
     "metadata": {},
     "output_type": "execute_result"
    }
   ],
   "source": [
    "df_sharks.columns[0:30].to_list\n",
    "#check the number of unique values in each column\n",
    "df_sharks.describe(include='all').loc['unique', :]\n",
    "#print the 12 different unique values of Type\n",
    "df_sharks.Type.unique()"
   ]
  },
  {
   "cell_type": "code",
   "execution_count": 23,
   "id": "9262ae9d-a822-4bfb-96a1-3bcd00c937c4",
   "metadata": {
    "tags": []
   },
   "outputs": [
    {
     "data": {
      "text/plain": [
       "Type\n",
       "Unprovoked    4716\n",
       "Provoked       593\n",
       "Watercraft     583\n",
       "Name: count, dtype: int64"
      ]
     },
     "execution_count": 23,
     "metadata": {},
     "output_type": "execute_result"
    }
   ],
   "source": [
    "#Catagorize \n",
    "df_sharks['Type'] = df_sharks['Type'].replace(['Sea Disaster', 'Boat','Boating','Boatomg'],'Watercraft')\n",
    "df_sharks['Type'].value_counts()\n",
    "\n",
    "df_sharks['Type'] = df_sharks['Type'].replace(['Invalid', 'Questionable','Unconfirmed','Unverified','Under investigation'],np.nan)\n",
    "df_sharks['Type'].value_counts()"
   ]
  },
  {
   "cell_type": "code",
   "execution_count": 24,
   "id": "39d6a904-e5fd-46b0-b559-cca8b3a207d2",
   "metadata": {
    "tags": []
   },
   "outputs": [
    {
     "data": {
      "text/plain": [
       "Type\n",
       "Unprovoked    4716\n",
       "Provoked       593\n",
       "Watercraft     583\n",
       "Name: count, dtype: int64"
      ]
     },
     "execution_count": 24,
     "metadata": {},
     "output_type": "execute_result"
    }
   ],
   "source": [
    "#retrieve the counts for each category \n",
    "df_sharks['Type'].value_counts()"
   ]
  },
  {
   "cell_type": "code",
   "execution_count": null,
   "id": "0101e57f-8321-492d-858e-32825b70979e",
   "metadata": {},
   "outputs": [],
   "source": [
    "# I decided to play around with the type catagory, and catagorize a like situations under larger buckets like Watercraft related for example"
   ]
  },
  {
   "cell_type": "code",
   "execution_count": null,
   "id": "f17a82bd-e968-4f42-8385-658680c4d00f",
   "metadata": {},
   "outputs": [],
   "source": [
    "# Part 3 Clean the Dummy Variable) "
   ]
  },
  {
   "cell_type": "code",
   "execution_count": 4,
   "id": "24d1eec0-e926-4a0a-a6ea-03aef62f9675",
   "metadata": {
    "tags": []
   },
   "outputs": [
    {
     "data": {
      "text/html": [
       "<div>\n",
       "<style scoped>\n",
       "    .dataframe tbody tr th:only-of-type {\n",
       "        vertical-align: middle;\n",
       "    }\n",
       "\n",
       "    .dataframe tbody tr th {\n",
       "        vertical-align: top;\n",
       "    }\n",
       "\n",
       "    .dataframe thead th {\n",
       "        text-align: right;\n",
       "    }\n",
       "</style>\n",
       "<table border=\"1\" class=\"dataframe\">\n",
       "  <thead>\n",
       "    <tr style=\"text-align: right;\">\n",
       "      <th></th>\n",
       "      <th>InternalStudyID</th>\n",
       "      <th>REQ_REC#</th>\n",
       "      <th>Defendant_Sex</th>\n",
       "      <th>Defendant_Race</th>\n",
       "      <th>Defendant_BirthYear</th>\n",
       "      <th>Defendant_Age</th>\n",
       "      <th>Defendant_AgeGroup</th>\n",
       "      <th>Defendant_AgeatCurrentArrest</th>\n",
       "      <th>Defendant_AttorneyTypeAtCaseClosure</th>\n",
       "      <th>Defendant_IndigencyStatus</th>\n",
       "      <th>...</th>\n",
       "      <th>NewFelonySexualAssaultArrest_OffDate</th>\n",
       "      <th>NewFelonySexualAssaultArrest_ArrestDate</th>\n",
       "      <th>NewFelonySexualAssaultArrest_DaysBetweenContactEventandOffDate</th>\n",
       "      <th>NewFelonySexualAssaultArrest_DaysBetweenOffDateandArrestDate</th>\n",
       "      <th>NewFelonySexualAssaultArrest_DaysBetweenReleaseDateandOffDate</th>\n",
       "      <th>NewFelonySexualAssaultArrest_Disposition</th>\n",
       "      <th>Intertnalindicator_ReasonforExcludingFromFollowUpAnalysis</th>\n",
       "      <th>CriminalHistoryRecordsReturnedorCMSRecordsFoundforIndividual</th>\n",
       "      <th>DispRecordFoundforChargesinOct2017Contact_Atleast1dispfound</th>\n",
       "      <th>CrimeCommission2021ReportClassificationofDefendants</th>\n",
       "    </tr>\n",
       "  </thead>\n",
       "  <tbody>\n",
       "    <tr>\n",
       "      <th>0</th>\n",
       "      <td>ADI00001</td>\n",
       "      <td>1</td>\n",
       "      <td>M</td>\n",
       "      <td>W</td>\n",
       "      <td>1986</td>\n",
       "      <td>31</td>\n",
       "      <td>3</td>\n",
       "      <td>31</td>\n",
       "      <td>99</td>\n",
       "      <td>99</td>\n",
       "      <td>...</td>\n",
       "      <td></td>\n",
       "      <td></td>\n",
       "      <td></td>\n",
       "      <td>999</td>\n",
       "      <td>999</td>\n",
       "      <td></td>\n",
       "      <td>4</td>\n",
       "      <td>1</td>\n",
       "      <td>0</td>\n",
       "      <td>Defendant could not be classified or tracked d...</td>\n",
       "    </tr>\n",
       "    <tr>\n",
       "      <th>1</th>\n",
       "      <td>ADI00007</td>\n",
       "      <td>3</td>\n",
       "      <td>M</td>\n",
       "      <td>B</td>\n",
       "      <td>1956</td>\n",
       "      <td>60</td>\n",
       "      <td>6</td>\n",
       "      <td>60</td>\n",
       "      <td>9</td>\n",
       "      <td>9</td>\n",
       "      <td>...</td>\n",
       "      <td></td>\n",
       "      <td></td>\n",
       "      <td></td>\n",
       "      <td>999</td>\n",
       "      <td>999</td>\n",
       "      <td></td>\n",
       "      <td>5</td>\n",
       "      <td>1</td>\n",
       "      <td>1</td>\n",
       "      <td>Defendant Detained Entire Pre-Trial Period_Und...</td>\n",
       "    </tr>\n",
       "    <tr>\n",
       "      <th>2</th>\n",
       "      <td>ADI00008</td>\n",
       "      <td>4</td>\n",
       "      <td>M</td>\n",
       "      <td>W</td>\n",
       "      <td>1990</td>\n",
       "      <td>27</td>\n",
       "      <td>3</td>\n",
       "      <td>27</td>\n",
       "      <td>9</td>\n",
       "      <td>9</td>\n",
       "      <td>...</td>\n",
       "      <td></td>\n",
       "      <td></td>\n",
       "      <td></td>\n",
       "      <td>999</td>\n",
       "      <td>999</td>\n",
       "      <td></td>\n",
       "      <td>5</td>\n",
       "      <td>1</td>\n",
       "      <td>1</td>\n",
       "      <td>Defendant Detained Entire Pre-Trial Period_Und...</td>\n",
       "    </tr>\n",
       "    <tr>\n",
       "      <th>3</th>\n",
       "      <td>CDI00036</td>\n",
       "      <td>6</td>\n",
       "      <td>M</td>\n",
       "      <td>B</td>\n",
       "      <td>1989</td>\n",
       "      <td>27</td>\n",
       "      <td>3</td>\n",
       "      <td>27</td>\n",
       "      <td>0</td>\n",
       "      <td>0</td>\n",
       "      <td>...</td>\n",
       "      <td></td>\n",
       "      <td></td>\n",
       "      <td></td>\n",
       "      <td>999</td>\n",
       "      <td>999</td>\n",
       "      <td></td>\n",
       "      <td>5</td>\n",
       "      <td>1</td>\n",
       "      <td>1</td>\n",
       "      <td>Defendant Detained Entire Pre-Trial Period_Und...</td>\n",
       "    </tr>\n",
       "    <tr>\n",
       "      <th>4</th>\n",
       "      <td>CDI00038</td>\n",
       "      <td>7</td>\n",
       "      <td>F</td>\n",
       "      <td>W</td>\n",
       "      <td>1988</td>\n",
       "      <td>28</td>\n",
       "      <td>3</td>\n",
       "      <td>28</td>\n",
       "      <td>0</td>\n",
       "      <td>0</td>\n",
       "      <td>...</td>\n",
       "      <td></td>\n",
       "      <td></td>\n",
       "      <td></td>\n",
       "      <td>999</td>\n",
       "      <td>999</td>\n",
       "      <td></td>\n",
       "      <td>0</td>\n",
       "      <td>1</td>\n",
       "      <td>1</td>\n",
       "      <td>New criminal offense punishable by incarcerati...</td>\n",
       "    </tr>\n",
       "  </tbody>\n",
       "</table>\n",
       "<p>5 rows × 709 columns</p>\n",
       "</div>"
      ],
      "text/plain": [
       "  InternalStudyID REQ_REC# Defendant_Sex Defendant_Race Defendant_BirthYear  \\\n",
       "0        ADI00001        1             M              W                1986   \n",
       "1        ADI00007        3             M              B                1956   \n",
       "2        ADI00008        4             M              W                1990   \n",
       "3        CDI00036        6             M              B                1989   \n",
       "4        CDI00038        7             F              W                1988   \n",
       "\n",
       "  Defendant_Age  Defendant_AgeGroup Defendant_AgeatCurrentArrest  \\\n",
       "0            31                   3                           31   \n",
       "1            60                   6                           60   \n",
       "2            27                   3                           27   \n",
       "3            27                   3                           27   \n",
       "4            28                   3                           28   \n",
       "\n",
       "   Defendant_AttorneyTypeAtCaseClosure  Defendant_IndigencyStatus  ...  \\\n",
       "0                                   99                         99  ...   \n",
       "1                                    9                          9  ...   \n",
       "2                                    9                          9  ...   \n",
       "3                                    0                          0  ...   \n",
       "4                                    0                          0  ...   \n",
       "\n",
       "  NewFelonySexualAssaultArrest_OffDate  \\\n",
       "0                                        \n",
       "1                                        \n",
       "2                                        \n",
       "3                                        \n",
       "4                                        \n",
       "\n",
       "  NewFelonySexualAssaultArrest_ArrestDate  \\\n",
       "0                                           \n",
       "1                                           \n",
       "2                                           \n",
       "3                                           \n",
       "4                                           \n",
       "\n",
       "   NewFelonySexualAssaultArrest_DaysBetweenContactEventandOffDate  \\\n",
       "0                                                                   \n",
       "1                                                                   \n",
       "2                                                                   \n",
       "3                                                                   \n",
       "4                                                                   \n",
       "\n",
       "  NewFelonySexualAssaultArrest_DaysBetweenOffDateandArrestDate  \\\n",
       "0                                                999             \n",
       "1                                                999             \n",
       "2                                                999             \n",
       "3                                                999             \n",
       "4                                                999             \n",
       "\n",
       "   NewFelonySexualAssaultArrest_DaysBetweenReleaseDateandOffDate  \\\n",
       "0                                                999               \n",
       "1                                                999               \n",
       "2                                                999               \n",
       "3                                                999               \n",
       "4                                                999               \n",
       "\n",
       "   NewFelonySexualAssaultArrest_Disposition  \\\n",
       "0                                             \n",
       "1                                             \n",
       "2                                             \n",
       "3                                             \n",
       "4                                             \n",
       "\n",
       "   Intertnalindicator_ReasonforExcludingFromFollowUpAnalysis  \\\n",
       "0                                                  4           \n",
       "1                                                  5           \n",
       "2                                                  5           \n",
       "3                                                  5           \n",
       "4                                                  0           \n",
       "\n",
       "   CriminalHistoryRecordsReturnedorCMSRecordsFoundforIndividual  \\\n",
       "0                                                  1              \n",
       "1                                                  1              \n",
       "2                                                  1              \n",
       "3                                                  1              \n",
       "4                                                  1              \n",
       "\n",
       "  DispRecordFoundforChargesinOct2017Contact_Atleast1dispfound  \\\n",
       "0                                                  0            \n",
       "1                                                  1            \n",
       "2                                                  1            \n",
       "3                                                  1            \n",
       "4                                                  1            \n",
       "\n",
       "   CrimeCommission2021ReportClassificationofDefendants  \n",
       "0  Defendant could not be classified or tracked d...    \n",
       "1  Defendant Detained Entire Pre-Trial Period_Und...    \n",
       "2  Defendant Detained Entire Pre-Trial Period_Und...    \n",
       "3  Defendant Detained Entire Pre-Trial Period_Und...    \n",
       "4  New criminal offense punishable by incarcerati...    \n",
       "\n",
       "[5 rows x 709 columns]"
      ]
     },
     "execution_count": 4,
     "metadata": {},
     "output_type": "execute_result"
    }
   ],
   "source": [
    "#Retrieve/Display Data \n",
    "df_pretrial = pd.read_parquet('/sfs/weka/scratch/khs2fu/wrangling/wrangling/assignment/data/justice_data.parquet')\n",
    "df_pretrial.head()"
   ]
  },
  {
   "cell_type": "code",
   "execution_count": 30,
   "id": "ee465453-5704-43d9-9d27-8899b79b98ce",
   "metadata": {
    "tags": []
   },
   "outputs": [
    {
     "name": "stdout",
     "output_type": "stream",
     "text": [
      "[9 0 1] \n",
      "\n"
     ]
    }
   ],
   "source": [
    "#Display Dummy variable \n",
    "Released = df_pretrial['WhetherDefendantWasReleasedPretrial']\n",
    "print(Released.unique(),'\\n')"
   ]
  },
  {
   "cell_type": "code",
   "execution_count": 34,
   "id": "e5905d59-602b-4426-9139-5b9cebdeae7b",
   "metadata": {
    "tags": []
   },
   "outputs": [],
   "source": [
    "#Replace any values with 9 with Null Values \n",
    "Released.replace(to_replace=9, value=np.nan, inplace=True)"
   ]
  },
  {
   "cell_type": "code",
   "execution_count": 35,
   "id": "4bd986b6-8337-46a4-b1f3-c3284bbacd8f",
   "metadata": {
    "tags": []
   },
   "outputs": [
    {
     "name": "stdout",
     "output_type": "stream",
     "text": [
      "WhetherDefendantWasReleasedPretrial\n",
      "1.0    19154\n",
      "0.0     3801\n",
      "Name: count, dtype: int64 \n",
      "\n",
      "There are 31 missing values in this column\n"
     ]
    }
   ],
   "source": [
    "#Find Missing Values \n",
    "print(Released.value_counts(),'\\n')\n",
    "missing = sum(Released.isnull())\n",
    "print(f\"There are {missing} missing values in this column\")"
   ]
  },
  {
   "cell_type": "code",
   "execution_count": null,
   "id": "ad8981fb-74e1-4770-ba14-c76cca3c63c5",
   "metadata": {},
   "outputs": [],
   "source": [
    "#Part 4 Clean Imposed Sentence Variable  "
   ]
  },
  {
   "cell_type": "code",
   "execution_count": 5,
   "id": "6869a30f-1ddc-416e-b89d-04f840270d0b",
   "metadata": {
    "tags": []
   },
   "outputs": [],
   "source": [
    "#Create Easier Varible Dataframes to manipulate \n",
    "Length = df_pretrial['ImposedSentenceAllChargeInContactEvent'].unique()\n",
    "Sentence_Type = df_pretrial['SentenceTypeAllChargesAtConvictionInContactEvent'].unique()"
   ]
  },
  {
   "cell_type": "code",
   "execution_count": 7,
   "id": "0a35460c-782c-4bf9-9e8d-ff381593f5eb",
   "metadata": {
    "tags": []
   },
   "outputs": [
    {
     "ename": "AttributeError",
     "evalue": "'numpy.ndarray' object has no attribute 'isnull'",
     "output_type": "error",
     "traceback": [
      "\u001b[0;31m---------------------------------------------------------------------------\u001b[0m",
      "\u001b[0;31mAttributeError\u001b[0m                            Traceback (most recent call last)",
      "Cell \u001b[0;32mIn[7], line 3\u001b[0m\n\u001b[1;32m      1\u001b[0m \u001b[38;5;66;03m# Convert to Numeric and Find Null Values \u001b[39;00m\n\u001b[1;32m      2\u001b[0m Length \u001b[38;5;241m=\u001b[39m pd\u001b[38;5;241m.\u001b[39mto_numeric(Length,errors\u001b[38;5;241m=\u001b[39m\u001b[38;5;124m'\u001b[39m\u001b[38;5;124mcoerce\u001b[39m\u001b[38;5;124m'\u001b[39m) \u001b[38;5;66;03m# Coerce to numeric\u001b[39;00m\n\u001b[0;32m----> 3\u001b[0m Length_NA \u001b[38;5;241m=\u001b[39m \u001b[43mLength\u001b[49m\u001b[38;5;241;43m.\u001b[39;49m\u001b[43misnull\u001b[49m() \u001b[38;5;66;03m# Create a missing dummy\u001b[39;00m\n\u001b[1;32m      4\u001b[0m \u001b[38;5;28mprint\u001b[39m( np\u001b[38;5;241m.\u001b[39msum(length_NA),\u001b[38;5;124m'\u001b[39m\u001b[38;5;130;01m\\n\u001b[39;00m\u001b[38;5;124m'\u001b[39m) \u001b[38;5;66;03m# 9k missing values of 23k, not so good\u001b[39;00m\n",
      "\u001b[0;31mAttributeError\u001b[0m: 'numpy.ndarray' object has no attribute 'isnull'"
     ]
    }
   ],
   "source": [
    "# Convert to Numeric and Find Null Values \n",
    "Length = pd.to_numeric(Length,errors='coerce') # Coerce to numeric\n",
    "Length_NA = Length.isnull() # Create a missing dummy\n",
    "print( np.sum(length_NA),'\\n') # 9k missing values of 23k, not so good"
   ]
  },
  {
   "cell_type": "code",
   "execution_count": null,
   "id": "21015fa8-39ba-489f-85c7-a1703e361029",
   "metadata": {},
   "outputs": [],
   "source": []
  }
 ],
 "metadata": {
  "kernelspec": {
   "display_name": "PyTorch 2.4.0",
   "language": "python",
   "name": "pytorch-2.4.0"
  },
  "language_info": {
   "codemirror_mode": {
    "name": "ipython",
    "version": 3
   },
   "file_extension": ".py",
   "mimetype": "text/x-python",
   "name": "python",
   "nbconvert_exporter": "python",
   "pygments_lexer": "ipython3",
   "version": "3.10.12"
  }
 },
 "nbformat": 4,
 "nbformat_minor": 5
}
